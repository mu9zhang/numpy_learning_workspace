{
 "cells": [
  {
   "cell_type": "code",
   "execution_count": 1,
   "metadata": {},
   "outputs": [
    {
     "name": "stdout",
     "output_type": "stream",
     "text": [
      "i2:  [[1. 0.]\n",
      " [0. 1.]]\n"
     ]
    }
   ],
   "source": [
    "\"\"\"\n",
    "File I/O\n",
    "\"\"\"\n",
    "import numpy as np\n",
    "\n",
    "# The identity matrix can be created with the eye() function. The only argument need to give the eye() function is the number of ones.\n",
    "i2 = np.eye(2)\n",
    "print(\"i2: \", i2)\n",
    "\n",
    "# save the data in a plain text\n",
    "np.savetxt(\"data/eye.txt\", i2)"
   ]
  },
  {
   "cell_type": "code",
   "execution_count": 2,
   "metadata": {},
   "outputs": [
    {
     "name": "stdout",
     "output_type": "stream",
     "text": [
      "VWAP = 350.5895493532009\n",
      "TWAP = 352.4283218390804\n",
      "MEAN = 351.0376666666667\n",
      "MAX =  364.9\n",
      "MIN =  333.53\n",
      "Spread high price 24.859999999999957\n",
      "Spread low price 26.970000000000027\n"
     ]
    }
   ],
   "source": [
    "\"\"\"\n",
    "CSV File\n",
    "\n",
    "1. The loadtxt() function can conveniently read CSV files, split up the fields, and load the data into NumPy arrays. \n",
    "\n",
    "2. The unpack argument is set to True, which means that data will be unpacked and assigned to the c and v variables that\n",
    "   will hold the close price and volume respectively.\n",
    "\n",
    "3. The mean() function calculates the arithmetic mean of an array.\n",
    "\n",
    "4. NumPy allows us to compute the spread of an array with a function called ptp(). The ptp() function returns the difference between\n",
    "   the maximum and minimum values of an array. \n",
    "\"\"\"\n",
    "\n",
    "c, v = np.loadtxt('data/data.csv', delimiter=',', usecols=(6, 7), unpack=True)\n",
    "h, l = np.loadtxt('data/data.csv', delimiter=',', usecols=(4, 5), unpack=True)\n",
    "\n",
    "vwap = np.average(c, weights=v)\n",
    "print(\"VWAP =\", vwap)\n",
    "\n",
    "t = np.arange(len(c))\n",
    "twap = np.average(c, weights=t)\n",
    "print(\"TWAP =\", twap)\n",
    "\n",
    "m = np.mean(c)\n",
    "print(\"MEAN =\", m)\n",
    "\n",
    "highest = np.max(h)\n",
    "lowest  = np.min(l)\n",
    "print(\"MAX = \", highest)\n",
    "print(\"MIN = \", lowest)\n",
    "\n",
    "h_spread = np.ptp(h)\n",
    "l_spread = np.ptp(l)\n",
    "print(\"Spread high price\", h_spread)\n",
    "print(\"Spread low price\", l_spread)"
   ]
  },
  {
   "cell_type": "code",
   "execution_count": 4,
   "metadata": {},
   "outputs": [
    {
     "name": "stdout",
     "output_type": "stream",
     "text": [
      "median =  352.055\n",
      "sorted =  [336.1  338.61 339.32 342.62 342.88 343.44 344.32 345.03 346.5  346.67\n",
      " 348.16 349.31 350.56 351.88 351.99 352.12 352.47 353.21 354.54 355.2\n",
      " 355.36 355.76 356.85 358.16 358.3  359.18 359.56 359.9  360.   363.13]\n",
      "median =  352.055\n",
      "varance =  50.126517888888884\n",
      "varance =  50.126517888888884\n",
      "varance by def =  50.126517888888884\n"
     ]
    }
   ],
   "source": [
    "\"\"\"\n",
    "Simple statistics \n",
    "\"\"\"\n",
    "# only get close price\n",
    "c = np.loadtxt('data/data.csv', delimiter=',', usecols=(6,), unpack=True)\n",
    "\n",
    "# median value\n",
    "median = np.median(c)\n",
    "print('median = ', median)\n",
    "\n",
    "# sortting the array\n",
    "sorted_close = np.msort(c)\n",
    "print('sorted = ', sorted_close)\n",
    "\n",
    "# for even-length arrays, the median() is calculated from the average of the two array values in the middle.\n",
    "n1 = round((len(c) - 1) / 2)\n",
    "n2 = n1 + 1\n",
    "print(\"median = \", (sorted_close[n1] + sorted_close[n2])/2)\n",
    "\n",
    "# variance value\n",
    "var = np.var(c)\n",
    "print(\"varance = \", var)\n",
    "print(\"varance = \", c.var())\n",
    "var2 = np.mean((c- c.mean()) ** 2)\n",
    "print(\"varance by def = \", var2)"
   ]
  },
  {
   "cell_type": "code",
   "execution_count": null,
   "metadata": {},
   "outputs": [],
   "source": [
    "\"\"\"\n",
    "NumPy has the diff() function that returns an array that is built up of the difference between two consecutive array elements. To get\n",
    "the returns, we also have to divide by the value of the previous day. We must be careful though. The array returned by diff() is one\n",
    "element shorter than the close prices array\n",
    "\"\"\"\n",
    "\n",
    "# returns\n",
    "returns = np.diff(c) / c[:-1]\n",
    "print(returns)\n",
    "print(\"Standard deviation =\", np.std(returns))\n",
    "\n",
    "# log returns\n",
    "logreturns = np.diff(np.log(c))\n",
    "print(logreturns)\n",
    "\n",
    "# positive\n",
    "posretindices = np.where(returns > 0)\n",
    "print(\"Indices with positive returns\", posretindices)\n",
    "\n",
    "# volatility\n",
    "annual_volatility = np.std(logreturns) / np.mean(logreturns)\n",
    "annual_volatility = annual_volatility / np.sqrt(1./252.)\n",
    "print(\"Annual volatility\", annual_volatility)\n",
    "print(\"Monthly volatility\", annual_volatility * np.sqrt(1./12.))"
   ]
  },
  {
   "cell_type": "code",
   "execution_count": 11,
   "metadata": {},
   "outputs": [
    {
     "name": "stdout",
     "output_type": "stream",
     "text": [
      "dates:  [4. 0. 1. 2. 3. 4. 0. 1. 2. 3. 4. 0. 1. 2. 3. 4. 1. 2. 3. 4. 0. 1. 2. 3.\n",
      " 4. 0. 1. 2. 3. 4.]\n",
      "Day 0 Price [[339.32 351.88 359.18 353.21 355.36]] Average 351.7900000000001\n",
      "Day 1 Price [[345.03 355.2  359.9  338.61 349.31 355.76]] Average 350.63500000000005\n",
      "Day 2 Price [[344.32 358.16 363.13 342.62 352.12 352.47]] Average 352.1366666666666\n",
      "Day 3 Price [[343.44 354.54 358.3  342.88 359.56 346.67]] Average 350.8983333333333\n",
      "Day 4 Price [[336.1  346.5  356.85 350.56 348.16 360.   351.99]] Average 350.0228571428571\n",
      "Highest average 352.1366666666666\n",
      "Top day of the week 2\n",
      "Lowest average 350.0228571428571\n",
      "Bottom day of the week 4\n"
     ]
    }
   ],
   "source": [
    "\"\"\"\n",
    "Dates\n",
    "\n",
    "1. The loadtxt() function has a special parameter called converters and is a dictionary that links columns with the so-called converter\n",
    "   functions. It is our responsibility to write the converter function.\n",
    "\n",
    "2. We give the datestr2num() function dates as a string, such as 28-01-2011. The string is first turned into a datetime object, using\n",
    "   a specified format %d-%m-%Y. Second, the datetime object is turned into a day. Finally, the weekday method is called on the date to\n",
    "   return a number. As you can read in the comments, the number is between 0 and 6. 0 is, for instance, Monday, and 6 is Sunday.\n",
    "\n",
    "3. We already learned about the where() function that returns indices of the array for elements that conform to a specified condition.\n",
    "   The take() function can use these indices and takes the values of the corresponding array items. \n",
    "\"\"\"\n",
    "import datetime\n",
    "\n",
    "def datestr2num(s):\n",
    "    return datetime.datetime.strptime(s.decode(), \"%d-%m-%Y\").date().weekday()\n",
    "\n",
    "# load data\n",
    "dates, close = np.loadtxt('data/data.csv', delimiter=',', usecols=(1, 6), converters={1: datestr2num}, unpack=True)\n",
    "print('dates: ', dates)\n",
    "\n",
    "# init array\n",
    "average = np.zeros(5)\n",
    "\n",
    "# compute the average\n",
    "for i in range(5):\n",
    "    indices = np.where(dates == i)\n",
    "    price = np.take(close, indices)\n",
    "    avg = np.mean(price)\n",
    "    print('Day', i, \"Price\", price, \"Average\", avg)\n",
    "    average[i] = avg\n",
    "\n",
    "# highest & lowest\n",
    "top = np.max(average)\n",
    "print(\"Highest average\", top)\n",
    "print(\"Top day of the week\", np.argmax(average))\n",
    "bottom = np.min(average)\n",
    "print(\"Lowest average\", bottom)\n",
    "print(\"Bottom day of the week\", np.argmin(average))"
   ]
  },
  {
   "cell_type": "code",
   "execution_count": 16,
   "metadata": {},
   "outputs": [
    {
     "name": "stdout",
     "output_type": "stream",
     "text": [
      "2015-04-22\n",
      "2015-04\n",
      "1677-01-01T20:19\n",
      "1677-01-02T05:19\n",
      "-540 minutes\n",
      "['2015-04-22' '2015-04-29' '2015-05-06' '2015-05-13' '2015-05-20']\n"
     ]
    },
    {
     "name": "stderr",
     "output_type": "stream",
     "text": [
      "/data/home/zhangmu/opt/anaconda3/lib/python3.6/site-packages/ipykernel_launcher.py:23: DeprecationWarning: parsing timezone aware datetimes is deprecated; this will raise an error in the future\n"
     ]
    }
   ],
   "source": [
    "\"\"\"\n",
    "NumPy's datetime64 type\n",
    "\n",
    "1. NumPy uses the ISO 8601 standard. This is an international standard to represent dates and times. ISO 8601 allows the YYYY-MM-DD,\n",
    "   YYYY-MM, and YYYYMMDD formats.\n",
    "\n",
    "2. By default, ISO 8601 uses the local time zone. Times can be specified using the format T[hh:mm:ss]. \n",
    "\n",
    "3. The subtraction creates a NumPy timedelta64 object; We can also add or subtract a number of days to a datetime64 object.\n",
    "\"\"\"\n",
    "\n",
    "# create a datetime64 from a string for April 22, 2015 \n",
    "print(np.datetime64('2015-04-22'))\n",
    "\n",
    "# April 2015\n",
    "print(np.datetime64('2015-04'))\n",
    "\n",
    "# local time\n",
    "local = np.datetime64('1677-01-01T20:19')\n",
    "print(local)\n",
    "\n",
    "# offset\n",
    "with_offset = np.datetime64('1677-01-01T20:19-0900')\n",
    "print(with_offset)\n",
    "\n",
    "# subtract the two datetime64 objects from each other\n",
    "print(local - with_offset)\n",
    "\n",
    "# It is mandatory to specify the dtype argument, otherwise NumPy thinks that we are dealing with strings.\n",
    "array = np.arange('2015-04-22', '2015-05-22', 7, dtype='datetime64')\n",
    "print(array)"
   ]
  },
  {
   "cell_type": "code",
   "execution_count": 26,
   "metadata": {},
   "outputs": [
    {
     "name": "stdout",
     "output_type": "stream",
     "text": [
      "[4. 0. 1. 2. 3. 4. 0. 1. 2. 3. 4. 0. 1. 2. 3. 4.]\n",
      "first monday:  1\n",
      "last two fridays:  10 15\n",
      "Weeks indices initial [ 1  2  3  4  5  6  7  8  9 10 11 12 13 14 15]\n",
      "Weeks indices after split [array([1, 2, 3, 4, 5]), array([ 6,  7,  8,  9, 10]), array([11, 12, 13, 14, 15])]\n",
      "Week summary [['APPL' '335.8' '346.7' '334.3' '346.5']\n",
      " ['APPL' '347.8' '360.0' '347.6' '356.8']\n",
      " ['APPL' '356.7' '364.9' '349.5' '350.5']]\n"
     ]
    }
   ],
   "source": [
    "\"\"\"\n",
    "Weekly Summary\n",
    "\"\"\"\n",
    "\n",
    "dates, open, high, low, close=np.loadtxt('./data/data.csv', delimiter=',', usecols=(1, 3, 4, 5, 6), converters={1: datestr2num}, unpack=True)\n",
    "\n",
    "# load the first 3 weeks in the sample\n",
    "close, dates = close[:16], dates[:16]\n",
    "print(dates)\n",
    "\n",
    "# get the first Monday\n",
    "first_monday = np.ravel(np.where(dates == 0))[0]\n",
    "print(\"first monday: \", first_monday)\n",
    "\n",
    "# get the last Friday\n",
    "last_friday = np.ravel(np.where(dates == 4))[-1]\n",
    "print(\"last friday: \", last_friday)\n",
    "\n",
    "# create an array with the indices of all the days in the three weeks\n",
    "weeks_indices = np.arange(first_monday, last_friday + 1)\n",
    "print(\"Weeks indices initial\", weeks_indices)\n",
    "\n",
    "# split array in pieces of size 5\n",
    "weeks_indices = np.split(weeks_indices, 3)\n",
    "print(\"Weeks indices after split\", weeks_indices)\n",
    "\n",
    "# summarize() function\n",
    "def summarize(a, o, h, l, c):\n",
    "    monday_open = o[a[0]]\n",
    "    week_high = np.max(np.take(h, a))\n",
    "    week_low  = np.min(np.take(l, a))\n",
    "    friday_close = c[a[-1]]\n",
    "    return (\"APPL\", monday_open, week_high, week_low, friday_close)\n",
    "\n",
    "# Call the apply_along_axis() function by supplying the name of our function; specifying the axis or dimension number (such as 1),\n",
    "# the array to operate on, and a variable number of arguments for the summarize() function\n",
    "weeksummary = np.apply_along_axis(summarize, 1, weeks_indices, open, high, low, close)\n",
    "print(\"Week summary\", weeksummary)\n",
    "\n",
    "# store the data: The format string starts with a percent sign. Second is an optional flag. \n",
    "np.savetxt(\"./data/weeksummary.csv\", weeksummary, delimiter=\",\", fmt=\"%s\")"
   ]
  },
  {
   "cell_type": "code",
   "execution_count": null,
   "metadata": {},
   "outputs": [],
   "source": []
  },
  {
   "cell_type": "code",
   "execution_count": null,
   "metadata": {},
   "outputs": [],
   "source": []
  },
  {
   "cell_type": "code",
   "execution_count": null,
   "metadata": {},
   "outputs": [],
   "source": []
  },
  {
   "cell_type": "code",
   "execution_count": null,
   "metadata": {},
   "outputs": [],
   "source": [
    "\n",
    "\n",
    "\n",
    "\n",
    "\n",
    "\n",
    "\n",
    "\n",
    "\n",
    "\n",
    "\n",
    "\n",
    "\n",
    "\n",
    "\n",
    "\n",
    "\n",
    "\n",
    "\n",
    "\n",
    "\n",
    "\n",
    "\n",
    "\n",
    "\n"
   ]
  }
 ],
 "metadata": {
  "kernelspec": {
   "display_name": "Python 3",
   "language": "python",
   "name": "python3"
  },
  "language_info": {
   "codemirror_mode": {
    "name": "ipython",
    "version": 3
   },
   "file_extension": ".py",
   "mimetype": "text/x-python",
   "name": "python",
   "nbconvert_exporter": "python",
   "pygments_lexer": "ipython3",
   "version": "3.6.4"
  }
 },
 "nbformat": 4,
 "nbformat_minor": 2
}
